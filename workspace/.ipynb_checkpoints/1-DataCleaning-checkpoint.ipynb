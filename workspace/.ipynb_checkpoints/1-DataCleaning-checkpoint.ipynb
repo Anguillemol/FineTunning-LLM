{
 "cells": [
  {
   "cell_type": "code",
   "execution_count": 39,
   "id": "8b5fb5a1-45e6-423f-ac40-ae9aaf83e94b",
   "metadata": {},
   "outputs": [],
   "source": [
    "import pandas as pd\n",
    "import re"
   ]
  },
  {
   "cell_type": "code",
   "execution_count": 40,
   "id": "03411219-e96a-4294-9aea-6980b60af4bc",
   "metadata": {},
   "outputs": [],
   "source": [
    "def read_whatsapp_chat(file_path: str) -> pd.DataFrame:\n",
    "    message_encryption = \"Les messages et les appels sont chiffrés de bout en bout. Aucun tiers, pas même WhatsApp, ne peut les lire ou les écouter.\"\n",
    "    vidAbs = \"vidéo absente\"\n",
    "    phoAbs = \"image absente\"\n",
    "    appManque = \"Appel vocal manqué\"\n",
    "    appVideoManque = \"Appel vidéo manqué\"\n",
    "    audioOmis = \"audio omis\"\n",
    "    stickerAbs = \"sticker omis\"\n",
    "    appelVocal = \"Appel vocal\"\n",
    "    appelVideo = \"Appel vidéo\"\n",
    "    docManquant = \"document manquant\"\n",
    "    gifAbs = \"GIF retiré\"\n",
    "    msgAbs = \"Ce message a été supprimé.\"\n",
    "    msgSupp = \"Vous avez supprimé ce message\"\n",
    "    url_pattern = r'http[s]?://(?:[a-zA-Z]|[0-9]|[$-_@.&+]|[!*\\(\\),]|(?:%[0-9a-fA-F][0-9a-fA-F]))+'\n",
    "    msgModifie= \"‎<Ce message a été modifié>\"\n",
    "\n",
    "    with open(file_path, 'r', encoding='utf-8') as f:\n",
    "        lines = f.readlines()\n",
    "        \n",
    "    filtered_lines = []\n",
    "    for line in lines:\n",
    "        if (\n",
    "            message_encryption not in line and\n",
    "            vidAbs not in line and\n",
    "            phoAbs not in line and\n",
    "            appManque not in line and\n",
    "            appVideoManque not in line and\n",
    "            audioOmis not in line and\n",
    "            stickerAbs not in line and\n",
    "            appelVocal not in line and\n",
    "            appelVideo not in line and\n",
    "            docManquant not in line and\n",
    "            gifAbs not in line and \n",
    "            msgAbs not in line and\n",
    "            msgSupp not in line and\n",
    "            not re.search(url_pattern, line)\n",
    "        ):\n",
    "            line = line.replace(msgModifie, \"\").strip()\n",
    "            filtered_lines.append(line)\n",
    "\n",
    "    pattern = r'\\[(\\d{2}/\\d{2}/\\d{4} \\d{2}:\\d{2}:\\d{2})\\] (.*?): (.*?)(?=\\n\\[|\\Z)'\n",
    "    content = '\\n'.join(filtered_lines)\n",
    "    messages = re.findall(pattern, content, re.DOTALL)\n",
    "\n",
    "    df = pd.DataFrame(messages, columns=['timestamp', 'sender', 'message'])\n",
    "    df['timestamp'] = pd.to_datetime(df['timestamp'], format='%d/%m/%Y %H:%M:%S')\n",
    "    return df\n",
    "            "
   ]
  },
  {
   "cell_type": "code",
   "execution_count": 41,
   "id": "afb55d44-e093-48d9-be2b-a6c7406fecfc",
   "metadata": {},
   "outputs": [],
   "source": [
    "from pathlib import Path\n",
    "\n",
    "all_chats = {}\n",
    "data_directory = Path('Data')\n",
    "for file in data_directory.glob('*.txt'):\n",
    "    file_name = file.stem\n",
    "    all_chats[file_name] = read_whatsapp_chat(file)"
   ]
  },
  {
   "cell_type": "code",
   "execution_count": 42,
   "id": "a6121139-279c-4407-ae9b-9815d19619c7",
   "metadata": {},
   "outputs": [
    {
     "data": {
      "text/plain": [
       "1702687"
      ]
     },
     "execution_count": 42,
     "metadata": {},
     "output_type": "execute_result"
    }
   ],
   "source": [
    "text_sequence = \"\"\n",
    "for file_name in all_chats.keys():\n",
    "    text_sequence += \" \".join(all_chats[file_name]['message'].values)\n",
    "\n",
    "len(text_sequence)"
   ]
  },
  {
   "cell_type": "code",
   "execution_count": 43,
   "id": "10b3df78-a674-4723-ac5a-fb929933fed2",
   "metadata": {},
   "outputs": [],
   "source": [
    "with open(\"Data/combined_text.txt\", \"w\") as f:\n",
    "    f.write(text_sequence)"
   ]
  },
  {
   "cell_type": "code",
   "execution_count": null,
   "id": "ddea8721-4995-4829-b6e4-3b1f66d7eca9",
   "metadata": {},
   "outputs": [],
   "source": []
  },
  {
   "cell_type": "code",
   "execution_count": null,
   "id": "3479671c-8eb0-4a27-a3a2-91a8c06994bf",
   "metadata": {},
   "outputs": [],
   "source": []
  }
 ],
 "metadata": {
  "kernelspec": {
   "display_name": "Python 3 (ipykernel)",
   "language": "python",
   "name": "python3"
  },
  "language_info": {
   "codemirror_mode": {
    "name": "ipython",
    "version": 3
   },
   "file_extension": ".py",
   "mimetype": "text/x-python",
   "name": "python",
   "nbconvert_exporter": "python",
   "pygments_lexer": "ipython3",
   "version": "3.9.22"
  }
 },
 "nbformat": 4,
 "nbformat_minor": 5
}
