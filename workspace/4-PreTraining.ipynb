{
 "cells": [
  {
   "cell_type": "code",
   "execution_count": 5,
   "id": "f15b72f1-f2e3-4b18-8b45-4f636fb4337d",
   "metadata": {
    "execution": {
     "iopub.execute_input": "2025-04-17T17:14:53.051092Z",
     "iopub.status.busy": "2025-04-17T17:14:53.050328Z",
     "iopub.status.idle": "2025-04-17T17:14:53.060346Z",
     "shell.execute_reply": "2025-04-17T17:14:53.059344Z",
     "shell.execute_reply.started": "2025-04-17T17:14:53.051064Z"
    }
   },
   "outputs": [],
   "source": [
    "import sys\n",
    "sys.path.append('..')\n",
    "\n",
    "from minbpe import BasicTokenizer\n",
    "\n",
    "tokenizer = BasicTokenizer()\n",
    "tokenizer.load(model_file='Output/Tokenizer/my_tokenizer.model')\n",
    "\n",
    "def get_vocab_size(tokenizer: BasicTokenizer) -> int:\n",
    "    vocab = tokenizer.vocab\n",
    "    special_tokens = tokenizer.special_tokens\n",
    "\n",
    "    return len(vocab) + len(special_tokens)"
   ]
  },
  {
   "cell_type": "code",
   "execution_count": 6,
   "id": "75914cfa-cc18-440e-9db5-d40559a43fa8",
   "metadata": {
    "execution": {
     "iopub.execute_input": "2025-04-17T17:14:53.804074Z",
     "iopub.status.busy": "2025-04-17T17:14:53.803277Z",
     "iopub.status.idle": "2025-04-17T17:14:53.813236Z",
     "shell.execute_reply": "2025-04-17T17:14:53.812273Z",
     "shell.execute_reply.started": "2025-04-17T17:14:53.804044Z"
    }
   },
   "outputs": [
    {
     "data": {
      "text/plain": [
       "<torch._C.Generator at 0x7f9e4878b150>"
      ]
     },
     "execution_count": 6,
     "metadata": {},
     "output_type": "execute_result"
    }
   ],
   "source": [
    "import torch\n",
    "torch.manual_seed(3647)"
   ]
  },
  {
   "cell_type": "code",
   "execution_count": 7,
   "id": "d389908c-815b-4798-abee-86e6743aea35",
   "metadata": {
    "execution": {
     "iopub.execute_input": "2025-04-17T17:14:54.202905Z",
     "iopub.status.busy": "2025-04-17T17:14:54.202501Z",
     "iopub.status.idle": "2025-04-17T17:14:54.421047Z",
     "shell.execute_reply": "2025-04-17T17:14:54.419872Z",
     "shell.execute_reply.started": "2025-04-17T17:14:54.202876Z"
    }
   },
   "outputs": [
    {
     "name": "stdout",
     "output_type": "stream",
     "text": [
      "14.711816 M parameters\n"
     ]
    }
   ],
   "source": [
    "from transformer.model import GPTLanguageModel\n",
    "\n",
    "block_size = 128\n",
    "n_embd = 512\n",
    "n_head = 12\n",
    "n_layer = 4\n",
    "dropout = 0.2\n",
    "batch_size = 8\n",
    "vocab_size = get_vocab_size(tokenizer)\n",
    "device = 'cuda' if torch.cuda.is_available() else 'cpu'\n",
    "\n",
    "model = GPTLanguageModel(\n",
    "    vocab_size=vocab_size,\n",
    "    block_size=block_size,\n",
    "    n_embd=n_embd,\n",
    "    n_head=n_head,\n",
    "    n_layer=n_layer,\n",
    "    dropout=dropout,\n",
    "    device=device\n",
    ").to(device)\n",
    "model = torch.compile(model)\n",
    "\n",
    "print(sum(p.numel() for p in model.parameters())/1e6, 'M parameters')"
   ]
  },
  {
   "cell_type": "markdown",
   "id": "964b0d0b-b0f8-4f80-8bbb-45cc40629afb",
   "metadata": {},
   "source": [
    "Data preparation"
   ]
  },
  {
   "cell_type": "code",
   "execution_count": 8,
   "id": "2dea2805-829a-4c17-9221-7b578ccfc7f6",
   "metadata": {
    "execution": {
     "iopub.execute_input": "2025-04-17T17:14:55.344904Z",
     "iopub.status.busy": "2025-04-17T17:14:55.344129Z",
     "iopub.status.idle": "2025-04-17T17:27:45.151359Z",
     "shell.execute_reply": "2025-04-17T17:27:45.149840Z",
     "shell.execute_reply.started": "2025-04-17T17:14:55.344864Z"
    }
   },
   "outputs": [
    {
     "data": {
      "text/plain": [
       "456461"
      ]
     },
     "execution_count": 8,
     "metadata": {},
     "output_type": "execute_result"
    }
   ],
   "source": [
    "with open(\"Data/combined_text.txt\", \"r\") as f:\n",
    "    text_sequence = f.read()\n",
    "\n",
    "encoded_text_sequence = tokenizer.encode(text_sequence)\n",
    "len(encoded_text_sequence)"
   ]
  },
  {
   "cell_type": "code",
   "execution_count": 10,
   "id": "ebbad923-e42d-45ec-948b-c34f60877c20",
   "metadata": {
    "execution": {
     "iopub.execute_input": "2025-04-17T21:25:35.868476Z",
     "iopub.status.busy": "2025-04-17T21:25:35.867799Z",
     "iopub.status.idle": "2025-04-17T21:25:35.901285Z",
     "shell.execute_reply": "2025-04-17T21:25:35.900061Z",
     "shell.execute_reply.started": "2025-04-17T21:25:35.868452Z"
    }
   },
   "outputs": [],
   "source": [
    "data = torch.tensor(encoded_text_sequence, dtype=torch.long)\n",
    "split_index = int(0.9*len(data))\n",
    "train_data = data[:split_index]\n",
    "val_data = data[split_index:]"
   ]
  },
  {
   "cell_type": "markdown",
   "id": "a28c1161-7b88-4126-a661-c03fb10576a4",
   "metadata": {},
   "source": [
    "Data loader"
   ]
  },
  {
   "cell_type": "code",
   "execution_count": null,
   "id": "64604a14-5d18-4bb6-bad1-2bef68a0ee98",
   "metadata": {
    "execution": {
     "iopub.status.busy": "2025-04-17T17:14:17.378162Z",
     "iopub.status.idle": "2025-04-17T17:14:17.378545Z",
     "shell.execute_reply": "2025-04-17T17:14:17.378396Z",
     "shell.execute_reply.started": "2025-04-17T17:14:17.378380Z"
    }
   },
   "outputs": [],
   "source": [
    "from typing import Tuple\n",
    "from torch.utils.data import Dataset, DataLoader\n",
    "\n",
    "\n",
    "class TextDataset(Dataset):\n",
    "    def __init__(self, data: torch.Tensor, block_size: int) -> None:\n",
    "        self.data = data\n",
    "        self.block_size = block_size\n",
    "\n",
    "    def __len__(self) -> int:\n",
    "        return len(self.data) - self.block_size\n",
    "\n",
    "    def __getitem__(self, index: int) -> Tuple[torch.Tensor, torch.Tensor]: #Prend un token et renvoie la prédiction ?\n",
    "        x = self.data[index:index + self.block_size]\n",
    "        y = self.data[index + 1:index + self.block_size + 1]\n",
    "        return x, y\n",
    "\n",
    "\n",
    "def get_dataloaders(\n",
    "        train_data: torch.Tensor,\n",
    "        val_data: torch.Tensor,\n",
    "        block_size: int,\n",
    "        batch_size: int,\n",
    "        device: torch.device\n",
    ") -> Tuple[DataLoader, DataLoader]:\n",
    "    train_dataset = TextDataset(train_data.to(device), block_size)\n",
    "    val_dataset = TextDataset(val_data.to(device), block_size)\n",
    "\n",
    "    train_loader = DataLoader(\n",
    "        train_dataset,\n",
    "        batch_size=batch_size,\n",
    "        shuffle=True,\n",
    "    )\n",
    "    val_loader = DataLoader(\n",
    "        val_dataset,\n",
    "        batch_size=batch_size,\n",
    "        shuffle=False,\n",
    "    )\n",
    "\n",
    "    return train_loader, val_loader"
   ]
  },
  {
   "cell_type": "code",
   "execution_count": null,
   "id": "564dc880-a6ea-4ab9-a8d7-98b22c9cfd2b",
   "metadata": {
    "execution": {
     "iopub.status.busy": "2025-04-17T17:14:17.379983Z",
     "iopub.status.idle": "2025-04-17T17:14:17.380512Z",
     "shell.execute_reply": "2025-04-17T17:14:17.380277Z",
     "shell.execute_reply.started": "2025-04-17T17:14:17.380256Z"
    }
   },
   "outputs": [],
   "source": [
    "train_loader, val_loader = get_dataloaders(\n",
    "    train_data=train_data,\n",
    "    val_data=val_data,\n",
    "    block_size=block_size,\n",
    "    batch_size=batch_size,\n",
    "    device=device\n",
    ")\n",
    "x, y = next(iter(train_loader))\n",
    "x.shape, y.shape"
   ]
  },
  {
   "cell_type": "markdown",
   "id": "93719a37-938f-4c58-90ff-714fab264292",
   "metadata": {},
   "source": [
    "Training"
   ]
  },
  {
   "cell_type": "code",
   "execution_count": null,
   "id": "ddb88283-5c93-4904-81bd-63fbdbf194dd",
   "metadata": {
    "execution": {
     "iopub.status.busy": "2025-04-17T17:14:17.382309Z",
     "iopub.status.idle": "2025-04-17T17:14:17.382691Z",
     "shell.execute_reply": "2025-04-17T17:14:17.382543Z",
     "shell.execute_reply.started": "2025-04-17T17:14:17.382525Z"
    }
   },
   "outputs": [],
   "source": [
    "from typing import Dict\n",
    "\n",
    "\n",
    "@torch.no_grad() # Désactivation du calcul des gradients\n",
    "def estimate_loss(\n",
    "    model: torch.nn.Module,\n",
    "    train_loader: DataLoader,\n",
    "    val_loader: DataLoader,\n",
    "    eval_iters: int\n",
    ") -> Dict[str, float]:\n",
    "    output = {}\n",
    "    model.eval()\n",
    "\n",
    "    for split, loader in [('train', train_loader), ('val', val_loader)]:\n",
    "        losses = torch.zeros(eval_iters)\n",
    "        for i, (x, y) in enumerate(loader):\n",
    "            if i >= eval_iters:\n",
    "                break\n",
    "            with torch.no_grad():\n",
    "                _, loss = model(x, y)\n",
    "            losses[i] = loss.item()\n",
    "        output[split] = losses.mean().item()\n",
    "\n",
    "    model.train()\n",
    "    return output"
   ]
  },
  {
   "cell_type": "code",
   "execution_count": null,
   "id": "5ed4c07f-9bec-47d4-9ae6-75d9a7c5fab5",
   "metadata": {
    "execution": {
     "iopub.status.busy": "2025-04-17T17:14:17.383991Z",
     "iopub.status.idle": "2025-04-17T17:14:17.384469Z",
     "shell.execute_reply": "2025-04-17T17:14:17.384278Z",
     "shell.execute_reply.started": "2025-04-17T17:14:17.384259Z"
    }
   },
   "outputs": [],
   "source": [
    "\n",
    "def save_checkpoint(\n",
    "    model: GPTLanguageModel,\n",
    "    optimizer: torch.optim.Optimizer,\n",
    "    epoch: int,\n",
    "    loss: float,\n",
    "    file_path: str = \"checkpoint.pth\"\n",
    ") -> None:\n",
    "    checkpoint = {\n",
    "        'epoch': epoch,\n",
    "        'model_state_dict': model.state_dict(),\n",
    "        'optimizer_state_dict': optimizer.state_dict(),\n",
    "        'loss': loss\n",
    "    }\n",
    "    torch.save(checkpoint, file_path)"
   ]
  },
  {
   "cell_type": "code",
   "execution_count": null,
   "id": "0565fbda-1b72-4299-a2da-82302932a52f",
   "metadata": {
    "execution": {
     "iopub.status.busy": "2025-04-17T17:14:17.385974Z",
     "iopub.status.idle": "2025-04-17T17:14:17.386457Z",
     "shell.execute_reply": "2025-04-17T17:14:17.386259Z",
     "shell.execute_reply.started": "2025-04-17T17:14:17.386242Z"
    }
   },
   "outputs": [],
   "source": [
    "from tqdm import tqdm\n",
    "import time\n",
    "\n",
    "max_iters = 1\n",
    "eval_interval = 10\n",
    "eval_iters = 20\n",
    "learning_rate = 1e-4\n",
    "\n",
    "optimizer = torch.optim.AdamW(model.parameters(), lr=learning_rate)\n",
    "train_loader, val_loader = get_dataloaders(\n",
    "    train_data=train_data,\n",
    "    val_data=val_data,\n",
    "    block_size=block_size,\n",
    "    batch_size=batch_size,\n",
    "    device=device\n",
    ")\n",
    "\n",
    "train_losses = []\n",
    "val_losses = []\n",
    "\n",
    "for iteration in tqdm(range(max_iters), desc=\"Training Iterations\"):\n",
    "    start_time = time.time()\n",
    "    \n",
    "    for batch_idx, (x_batch, y_batch) in enumerate(train_loader):\n",
    "        # Evaluation\n",
    "        if batch_idx % eval_interval == 0 or batch_idx == len(train_loader) - 1:\n",
    "            losses = estimate_loss(\n",
    "                model=model,\n",
    "                train_loader=train_loader,\n",
    "                val_loader=val_loader,\n",
    "                eval_iters=min(eval_iters, len(val_loader))\n",
    "            )\n",
    "            train_losses.append(losses['train'])\n",
    "            val_losses.append(losses['val'])\n",
    "\n",
    "            print(\n",
    "                f\"iteration {iteration} / step {batch_idx}: \"\n",
    "                f\"train loss {losses['train']:.4f}, \"\n",
    "                f\"val loss {losses['val']:.4f}\"\n",
    "            )\n",
    "\n",
    "        # Training step\n",
    "        logits, loss = model(x_batch, y_batch)\n",
    "        optimizer.zero_grad(set_to_none=True)\n",
    "        loss.backward()\n",
    "        optimizer.step()\n",
    "\n",
    "    # Save checkpoint\n",
    "    save_checkpoint(\n",
    "        model=model,\n",
    "        optimizer=optimizer,\n",
    "        epoch=iteration,\n",
    "        loss=loss.item(),\n",
    "        file_path=f\"../output/pre_training/run_4/checkpoint_{iteration}.pth\"\n",
    "    )\n",
    "\n",
    "    elapsed = time.time() - start_time\n",
    "    tqdm.write(f\"⏱️ Iteration {iteration} completed in {elapsed:.2f}s\")\n"
   ]
  },
  {
   "cell_type": "code",
   "execution_count": null,
   "id": "dc158586-6597-4ce0-9bd2-1d38749ca88e",
   "metadata": {},
   "outputs": [],
   "source": []
  }
 ],
 "metadata": {
  "kernelspec": {
   "display_name": "Python 3 (ipykernel)",
   "language": "python",
   "name": "python3"
  },
  "language_info": {
   "codemirror_mode": {
    "name": "ipython",
    "version": 3
   },
   "file_extension": ".py",
   "mimetype": "text/x-python",
   "name": "python",
   "nbconvert_exporter": "python",
   "pygments_lexer": "ipython3",
   "version": "3.9.22"
  }
 },
 "nbformat": 4,
 "nbformat_minor": 5
}
